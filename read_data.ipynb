{
 "cells": [
  {
   "cell_type": "code",
   "execution_count": null,
   "metadata": {},
   "outputs": [],
   "source": [
    "import cv2 as cv\n",
    "import numpy as np\n",
    "import os\n",
    "import sklearn\n",
    "from sklearn.svm import SVC\n",
    "from skimage.feature import hog\n",
    "import pandas as pd\n",
    "\n",
    "from sklearn.model_selection import train_test_split, GridSearchCV ,StratifiedKFold\n",
    "from sklearn.metrics import classification_report, confusion_matrix\n",
    "\n",
    "import pickle"
   ]
  },
  {
   "cell_type": "code",
   "execution_count": null,
   "metadata": {},
   "outputs": [],
   "source": [
    "MASK_PATH = './Dataset/mask/'\n",
    "NO_MASK_PATH = './Dataset/no_mask/'\n",
    "\n",
    "MASK_PATH_PREPROCESSED = './PreProcessed/mask/'\n",
    "NO_MASK_PATH_PREPROCESSED = './PreProcessed/no_mask/'\n",
    "haarcasade = cv.CascadeClassifier('haarcascade_frontalface_default.xml')\n"
   ]
  },
  {
   "cell_type": "code",
   "execution_count": null,
   "metadata": {},
   "outputs": [],
   "source": [
    "\n",
    "ctr = 0\n",
    "ITER_LIMIT = 800\n",
    "for i in os.listdir(MASK_PATH):\n",
    "    path = os.path.join(MASK_PATH,i)\n",
    "    img = cv.imread(path,cv.IMREAD_GRAYSCALE)\n",
    "\n",
    "    faces = haarcasade.detectMultiScale(img, scaleFactor = 1.2, minNeighbors = 5)\n",
    "    if not len(faces) < 1:\n",
    "        for face_rect in faces:\n",
    "            x, y, w, h = face_rect\n",
    "            face_image = img[y:y+w, x:x+h]\n",
    "            resized = cv.resize(face_image,(128,128))\n",
    "            clahe = cv.createCLAHE(clipLimit=2.0, tileGridSize=(8,8))\n",
    "            clahe_img = clahe.apply(resized)\n",
    "            cv.imwrite(MASK_PATH_PREPROCESSED+i, clahe_img)\n",
    "\n",
    "            ctr += 1\n",
    "    if ctr >= ITER_LIMIT: break\n",
    "\n",
    "ctr = 0\n",
    "for i in os.listdir(NO_MASK_PATH):\n",
    "    path = os.path.join(NO_MASK_PATH,i)\n",
    "    img = cv.imread(path,cv.IMREAD_GRAYSCALE)\n",
    "\n",
    "    faces = haarcasade.detectMultiScale(img, scaleFactor = 1.2, minNeighbors = 5)\n",
    "    if not len(faces) < 1:\n",
    "        for face_rect in faces:\n",
    "            x, y, w, h = face_rect\n",
    "            face_image = img[y:y+w, x:x+h]\n",
    "            resized = cv.resize(face_image,(128,128))\n",
    "            clahe = cv.createCLAHE(clipLimit=2.0, tileGridSize=(8,8))\n",
    "            clahe_img = clahe.apply(resized)\n",
    "            cv.imwrite(NO_MASK_PATH_PREPROCESSED+i, clahe_img)\n",
    "            ctr += 1\n",
    "    if ctr >= ITER_LIMIT: break\n"
   ]
  }
 ],
 "metadata": {
  "kernelspec": {
   "display_name": "computer_vision",
   "language": "python",
   "name": "python3"
  },
  "language_info": {
   "name": "python",
   "version": "3.7.6"
  }
 },
 "nbformat": 4,
 "nbformat_minor": 2
}
