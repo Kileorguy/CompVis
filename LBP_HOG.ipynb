{
 "cells": [
  {
   "cell_type": "code",
   "execution_count": 3,
   "metadata": {},
   "outputs": [],
   "source": [
    "import cv2 as cv\n",
    "import numpy as np\n",
    "import os\n",
    "import sklearn\n",
    "from sklearn.svm import SVC\n",
    "from skimage.feature import hog,local_binary_pattern\n",
    "import pandas as pd\n",
    "\n",
    "from sklearn.model_selection import train_test_split, GridSearchCV ,StratifiedKFold\n",
    "from sklearn.metrics import classification_report, confusion_matrix\n",
    "\n",
    "import pickle"
   ]
  },
  {
   "cell_type": "code",
   "execution_count": 4,
   "metadata": {},
   "outputs": [],
   "source": [
    "MASK_PATH = './Dataset/mask/'\n",
    "NO_MASK_PATH = './Dataset/no_mask/'\n",
    "\n",
    "MASK_PATH_PREPROCESSED = './PreProcessed/mask/'\n",
    "NO_MASK_PATH_PREPROCESSED = './PreProcessed/no_mask/'\n",
    "\n"
   ]
  },
  {
   "cell_type": "code",
   "execution_count": 5,
   "metadata": {},
   "outputs": [],
   "source": [
    "mask_data = []\n",
    "no_mask_data = []\n",
    "\n",
    "for i in os.listdir(MASK_PATH_PREPROCESSED):\n",
    "    path = os.path.join(MASK_PATH_PREPROCESSED,i)\n",
    "    img = cv.imread(path,cv.IMREAD_GRAYSCALE)\n",
    "    mask_data.append(img)\n",
    "   \n",
    "for i in os.listdir(NO_MASK_PATH_PREPROCESSED):\n",
    "    path = os.path.join(NO_MASK_PATH_PREPROCESSED,i)\n",
    "    img = cv.imread(path,cv.IMREAD_GRAYSCALE)\n",
    "    no_mask_data.append(img)"
   ]
  },
  {
   "cell_type": "code",
   "execution_count": null,
   "metadata": {},
   "outputs": [],
   "source": [
    "masked_features = []\n",
    "no_masked_features = []\n",
    "\n",
    "numPoints = 24\n",
    "radius = 8\n",
    "\n",
    "for i in mask_data:\n",
    "    lbp = local_binary_pattern(i, numPoints,radius, method=\"uniform\")\n",
    "    hog_feature = hog(lbp, pixels_per_cell=(8, 8), cells_per_block=(2, 2), block_norm='L2-Hys', visualize=False)\n",
    "    masked_features.append(hog_feature)\n",
    "    \n",
    "for i in no_mask_data:\n",
    "    lbp = local_binary_pattern(i, numPoints,radius, method=\"uniform\")\n",
    "    hog_feature = hog(lbp, pixels_per_cell=(8, 8), cells_per_block=(2, 2), block_norm='L2-Hys', visualize=False)\n",
    "    no_masked_features.append(hog_feature)"
   ]
  },
  {
   "cell_type": "code",
   "execution_count": null,
   "metadata": {},
   "outputs": [],
   "source": [
    "df = pd.DataFrame(masked_features)\n",
    "df['label'] = 1\n",
    "\n",
    "df1 = pd.DataFrame(no_masked_features)\n",
    "df1['label'] = 0\n",
    "\n",
    "merged = pd.concat([df,df1])\n",
    "merged"
   ]
  },
  {
   "cell_type": "code",
   "execution_count": 9,
   "metadata": {},
   "outputs": [],
   "source": [
    "y = merged['label']\n",
    "x = merged.drop(columns=['label'])\n",
    "\n",
    "X_train, X_test, y_train, y_test = train_test_split(x, y, test_size=0.33, random_state=42)"
   ]
  },
  {
   "cell_type": "code",
   "execution_count": null,
   "metadata": {},
   "outputs": [],
   "source": [
    "# svm = SVC(kernel='rbf',gamma=0.01, C=0.1)\n",
    "# svm.fit(X_train,y_train)\n",
    "\n",
    "\n",
    "# cross_validation = StratifiedKFold(n_splits=10, shuffle=True, random_state=42)\n",
    "# param_grid = {'C': [0.1, 1, 10, 100, 1000],  \n",
    "#               'gamma': [1, 0.1, 0.01, 0.001, 0.0001], \n",
    "#               'kernel': ['rbf']}  \n",
    "  \n",
    "# grid = GridSearchCV(SVC(), param_grid, cv=cross_validation,refit = True, verbose = 3) \n",
    "  \n",
    "# grid.fit(X_train, y_train) \n"
   ]
  },
  {
   "cell_type": "code",
   "execution_count": null,
   "metadata": {},
   "outputs": [],
   "source": [
    "# print(grid.best_params_)"
   ]
  },
  {
   "cell_type": "code",
   "execution_count": 11,
   "metadata": {},
   "outputs": [
    {
     "data": {
      "text/plain": [
       "SVC(C=10, gamma=0.01)"
      ]
     },
     "execution_count": 11,
     "metadata": {},
     "output_type": "execute_result"
    }
   ],
   "source": [
    "classifier = SVC(C= 10, gamma= 0.01, kernel= 'rbf')\n",
    "classifier.fit(X_train, y_train)"
   ]
  },
  {
   "cell_type": "code",
   "execution_count": 12,
   "metadata": {},
   "outputs": [
    {
     "name": "stdout",
     "output_type": "stream",
     "text": [
      "              precision    recall  f1-score   support\n",
      "\n",
      "           0       1.00      1.00      1.00       437\n",
      "           1       1.00      1.00      1.00       427\n",
      "\n",
      "    accuracy                           1.00       864\n",
      "   macro avg       1.00      1.00      1.00       864\n",
      "weighted avg       1.00      1.00      1.00       864\n",
      "\n",
      "              precision    recall  f1-score   support\n",
      "\n",
      "           0       0.93      0.96      0.95       205\n",
      "           1       0.96      0.94      0.95       222\n",
      "\n",
      "    accuracy                           0.95       427\n",
      "   macro avg       0.95      0.95      0.95       427\n",
      "weighted avg       0.95      0.95      0.95       427\n",
      "\n"
     ]
    }
   ],
   "source": [
    "# best_model = grid.best_estimator_\n",
    "# y_pred = best_model.predict(X_test)\n",
    "\n",
    "ytrain_pred = classifier.predict(X_train)\n",
    "ytest_pred = classifier.predict(X_test)\n",
    "\n",
    "\n",
    "# print(f\"Best parameters found: {grid.best_params_}\")\n",
    "# print(f\"Best cross-validation score: {grid.best_score_}\")\n",
    "\n",
    "print(classification_report(y_train, ytrain_pred))\n",
    "print(classification_report(y_test, ytest_pred))"
   ]
  },
  {
   "cell_type": "code",
   "execution_count": 13,
   "metadata": {},
   "outputs": [
    {
     "name": "stdout",
     "output_type": "stream",
     "text": [
      "[[197  14]\n",
      " [  8 208]]\n",
      "[[437   0]\n",
      " [  0 427]]\n"
     ]
    }
   ],
   "source": [
    "\n",
    "matrix_kebingungan = confusion_matrix(ytest_pred, y_test)\n",
    "print(matrix_kebingungan)\n",
    "\n",
    "matrix_kebingungan = confusion_matrix(ytrain_pred, y_train)\n",
    "print(matrix_kebingungan)"
   ]
  },
  {
   "cell_type": "code",
   "execution_count": 14,
   "metadata": {},
   "outputs": [
    {
     "ename": "NameError",
     "evalue": "name 'haarcasade' is not defined",
     "output_type": "error",
     "traceback": [
      "\u001b[1;31m---------------------------------------------------------------------------\u001b[0m",
      "\u001b[1;31mNameError\u001b[0m                                 Traceback (most recent call last)",
      "\u001b[1;32m~\\AppData\\Local\\Temp\\ipykernel_36280\\1576939820.py\u001b[0m in \u001b[0;36m<module>\u001b[1;34m\u001b[0m\n\u001b[0;32m      2\u001b[0m \u001b[1;31m# img = no_mask_data[-1:]\u001b[0m\u001b[1;33m\u001b[0m\u001b[1;33m\u001b[0m\u001b[1;33m\u001b[0m\u001b[0m\n\u001b[0;32m      3\u001b[0m \u001b[1;31m# print(img)\u001b[0m\u001b[1;33m\u001b[0m\u001b[1;33m\u001b[0m\u001b[1;33m\u001b[0m\u001b[0m\n\u001b[1;32m----> 4\u001b[1;33m \u001b[0mfaces\u001b[0m \u001b[1;33m=\u001b[0m \u001b[0mhaarcasade\u001b[0m\u001b[1;33m.\u001b[0m\u001b[0mdetectMultiScale\u001b[0m\u001b[1;33m(\u001b[0m\u001b[0mimg\u001b[0m\u001b[1;33m,\u001b[0m \u001b[0mscaleFactor\u001b[0m \u001b[1;33m=\u001b[0m \u001b[1;36m1.2\u001b[0m\u001b[1;33m,\u001b[0m \u001b[0mminNeighbors\u001b[0m \u001b[1;33m=\u001b[0m \u001b[1;36m5\u001b[0m\u001b[1;33m)\u001b[0m\u001b[1;33m\u001b[0m\u001b[1;33m\u001b[0m\u001b[0m\n\u001b[0m\u001b[0;32m      5\u001b[0m \u001b[1;32mif\u001b[0m \u001b[1;32mnot\u001b[0m \u001b[0mlen\u001b[0m\u001b[1;33m(\u001b[0m\u001b[0mfaces\u001b[0m\u001b[1;33m)\u001b[0m \u001b[1;33m<\u001b[0m \u001b[1;36m1\u001b[0m\u001b[1;33m:\u001b[0m\u001b[1;33m\u001b[0m\u001b[1;33m\u001b[0m\u001b[0m\n\u001b[0;32m      6\u001b[0m     \u001b[1;32mfor\u001b[0m \u001b[0mface_rect\u001b[0m \u001b[1;32min\u001b[0m \u001b[0mfaces\u001b[0m\u001b[1;33m:\u001b[0m\u001b[1;33m\u001b[0m\u001b[1;33m\u001b[0m\u001b[0m\n",
      "\u001b[1;31mNameError\u001b[0m: name 'haarcasade' is not defined"
     ]
    }
   ],
   "source": [
    "\n",
    "\n",
    "\n",
    "\n",
    "# img = cv.imread('./b.jpg', cv.IMREAD_GRAYSCALE)\n",
    "# # img = no_mask_data[-1:]\n",
    "# # print(img)\n",
    "# faces = haarcasade.detectMultiScale(img, scaleFactor = 1.2, minNeighbors = 5)\n",
    "# if not len(faces) < 1:\n",
    "#     for face_rect in faces:\n",
    "#         x, y, w, h = face_rect\n",
    "#         face_image = img[y:y+w, x:x+h]\n",
    "#         resized = cv.resize(face_image,(128,128))\n",
    "\n",
    "#         hog_feature = hog(resized, pixels_per_cell=(8, 8), cells_per_block=(2, 2), block_norm='L2-Hys', visualize=False)\n",
    "#         test_data = pd.DataFrame(hog_feature).T\n",
    "\n",
    "#         result=best_model.predict(test_data)[0]\n",
    "#         print(result)\n",
    "#         if result == 0:\n",
    "#             result = 'No Mask'\n",
    "#         else:\n",
    "#             result = 'Mask'\n",
    "\n",
    "\n",
    "#         cv.putText(img, result, (100,100), cv.FONT_HERSHEY_PLAIN, 1.5, (255, 0, 0), 1)\n",
    "#         cv.imshow('',img)\n",
    "#         cv.waitKey(0)\n",
    "#         cv.destroyAllWindows()\n",
    "\n",
    "#         cv.imshow('',resized)\n",
    "#         cv.waitKey(0)\n",
    "#         cv.destroyAllWindows()"
   ]
  },
  {
   "cell_type": "code",
   "execution_count": null,
   "metadata": {},
   "outputs": [],
   "source": [
    "import pickle\n",
    "model_filename = './model.pkl'\n",
    "with open(model_filename, 'wb') as file:\n",
    "    pickle.dump(best_model, file)\n",
    "\n",
    "print(f\"Model saved to {model_filename}\")"
   ]
  }
 ],
 "metadata": {
  "kernelspec": {
   "display_name": "computer_vision",
   "language": "python",
   "name": "python3"
  },
  "language_info": {
   "codemirror_mode": {
    "name": "ipython",
    "version": 3
   },
   "file_extension": ".py",
   "mimetype": "text/x-python",
   "name": "python",
   "nbconvert_exporter": "python",
   "pygments_lexer": "ipython3",
   "version": "3.7.6"
  }
 },
 "nbformat": 4,
 "nbformat_minor": 2
}
