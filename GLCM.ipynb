{
 "cells": [
  {
   "cell_type": "code",
   "execution_count": 85,
   "metadata": {},
   "outputs": [],
   "source": [
    "import cv2 as cv\n",
    "import numpy as np\n",
    "import os\n",
    "import sklearn\n",
    "from sklearn.svm import SVC\n",
    "from skimage.feature import graycomatrix, graycoprops\n",
    "import pandas as pd\n",
    "\n",
    "from sklearn.model_selection import train_test_split, GridSearchCV ,StratifiedKFold\n",
    "from sklearn.metrics import classification_report, confusion_matrix\n",
    "\n",
    "import pickle"
   ]
  },
  {
   "cell_type": "code",
   "execution_count": 86,
   "metadata": {},
   "outputs": [],
   "source": [
    "MASK_PATH = './Dataset/mask/'\n",
    "NO_MASK_PATH = './Dataset/no_mask/'\n",
    "\n",
    "MASK_PATH_PREPROCESSED = './PreProcessed/mask/'\n",
    "NO_MASK_PATH_PREPROCESSED = './PreProcessed/no_mask/'\n",
    "\n"
   ]
  },
  {
   "cell_type": "code",
   "execution_count": 87,
   "metadata": {},
   "outputs": [],
   "source": [
    "mask_data = []\n",
    "no_mask_data = []\n",
    "\n",
    "for i in os.listdir(MASK_PATH_PREPROCESSED):\n",
    "    path = os.path.join(MASK_PATH_PREPROCESSED,i)\n",
    "    img = cv.imread(path,cv.IMREAD_GRAYSCALE)\n",
    "    mask_data.append(img)\n",
    "   \n",
    "for i in os.listdir(NO_MASK_PATH_PREPROCESSED):\n",
    "    path = os.path.join(NO_MASK_PATH_PREPROCESSED,i)\n",
    "    img = cv.imread(path,cv.IMREAD_GRAYSCALE)\n",
    "    no_mask_data.append(img)"
   ]
  },
  {
   "cell_type": "code",
   "execution_count": 88,
   "metadata": {},
   "outputs": [],
   "source": [
    "masked_features = []\n",
    "no_masked_features = []\n",
    "\n",
    "level = 8\n",
    "\n",
    "for i in mask_data:\n",
    "    gray = np.floor(i / (256 / level)).astype('uint8')\n",
    "    glcm = graycomatrix(gray, distances=[1], angles=[0, np.pi/4, np.pi/2, np.pi],levels=level, symmetric=True, normed=True)\n",
    "    # print(glcm.reshape(1,-1))\n",
    "    masked_features.append([\n",
    "            graycoprops(glcm, 'contrast').mean(),\n",
    "            graycoprops(glcm, 'dissimilarity').mean(),\n",
    "            graycoprops(glcm, 'homogeneity').mean(),\n",
    "            graycoprops(glcm, 'energy').mean(),\n",
    "            graycoprops(glcm, 'correlation').mean()\n",
    "        ])\n",
    "    \n",
    "for i in no_mask_data:\n",
    "    gray = np.floor(i / (256 / level)).astype('uint8')\n",
    "    glcm = graycomatrix(gray, distances=[1], angles=[0, np.pi/4, np.pi/2, np.pi],levels=level, symmetric=True, normed=True)\n",
    "    no_masked_features.append([\n",
    "            graycoprops(glcm, 'contrast').mean(),\n",
    "            graycoprops(glcm, 'dissimilarity').mean(),\n",
    "            graycoprops(glcm, 'homogeneity').mean(),\n",
    "            graycoprops(glcm, 'energy').mean(),\n",
    "            graycoprops(glcm, 'correlation').mean()\n",
    "        ])"
   ]
  },
  {
   "cell_type": "code",
   "execution_count": 89,
   "metadata": {},
   "outputs": [
    {
     "name": "stdout",
     "output_type": "stream",
     "text": [
      "(649, 5)\n"
     ]
    }
   ],
   "source": [
    "print(np.array(masked_features).shape)"
   ]
  },
  {
   "cell_type": "code",
   "execution_count": 90,
   "metadata": {},
   "outputs": [
    {
     "data": {
      "text/html": [
       "<div>\n",
       "<style scoped>\n",
       "    .dataframe tbody tr th:only-of-type {\n",
       "        vertical-align: middle;\n",
       "    }\n",
       "\n",
       "    .dataframe tbody tr th {\n",
       "        vertical-align: top;\n",
       "    }\n",
       "\n",
       "    .dataframe thead th {\n",
       "        text-align: right;\n",
       "    }\n",
       "</style>\n",
       "<table border=\"1\" class=\"dataframe\">\n",
       "  <thead>\n",
       "    <tr style=\"text-align: right;\">\n",
       "      <th></th>\n",
       "      <th>0</th>\n",
       "      <th>1</th>\n",
       "      <th>2</th>\n",
       "      <th>3</th>\n",
       "      <th>4</th>\n",
       "      <th>label</th>\n",
       "    </tr>\n",
       "  </thead>\n",
       "  <tbody>\n",
       "    <tr>\n",
       "      <th>0</th>\n",
       "      <td>0.619351</td>\n",
       "      <td>0.384239</td>\n",
       "      <td>0.830065</td>\n",
       "      <td>0.407817</td>\n",
       "      <td>0.937481</td>\n",
       "      <td>1</td>\n",
       "    </tr>\n",
       "    <tr>\n",
       "      <th>1</th>\n",
       "      <td>0.687188</td>\n",
       "      <td>0.345690</td>\n",
       "      <td>0.854534</td>\n",
       "      <td>0.432327</td>\n",
       "      <td>0.931934</td>\n",
       "      <td>1</td>\n",
       "    </tr>\n",
       "    <tr>\n",
       "      <th>2</th>\n",
       "      <td>0.711939</td>\n",
       "      <td>0.433662</td>\n",
       "      <td>0.809139</td>\n",
       "      <td>0.362867</td>\n",
       "      <td>0.936787</td>\n",
       "      <td>1</td>\n",
       "    </tr>\n",
       "    <tr>\n",
       "      <th>3</th>\n",
       "      <td>0.994645</td>\n",
       "      <td>0.526109</td>\n",
       "      <td>0.780055</td>\n",
       "      <td>0.364014</td>\n",
       "      <td>0.875685</td>\n",
       "      <td>1</td>\n",
       "    </tr>\n",
       "    <tr>\n",
       "      <th>4</th>\n",
       "      <td>0.454090</td>\n",
       "      <td>0.281114</td>\n",
       "      <td>0.875594</td>\n",
       "      <td>0.411168</td>\n",
       "      <td>0.971503</td>\n",
       "      <td>1</td>\n",
       "    </tr>\n",
       "    <tr>\n",
       "      <th>...</th>\n",
       "      <td>...</td>\n",
       "      <td>...</td>\n",
       "      <td>...</td>\n",
       "      <td>...</td>\n",
       "      <td>...</td>\n",
       "      <td>...</td>\n",
       "    </tr>\n",
       "    <tr>\n",
       "      <th>637</th>\n",
       "      <td>0.323869</td>\n",
       "      <td>0.269497</td>\n",
       "      <td>0.870614</td>\n",
       "      <td>0.335879</td>\n",
       "      <td>0.948311</td>\n",
       "      <td>0</td>\n",
       "    </tr>\n",
       "    <tr>\n",
       "      <th>638</th>\n",
       "      <td>0.241062</td>\n",
       "      <td>0.236766</td>\n",
       "      <td>0.882046</td>\n",
       "      <td>0.336501</td>\n",
       "      <td>0.953307</td>\n",
       "      <td>0</td>\n",
       "    </tr>\n",
       "    <tr>\n",
       "      <th>639</th>\n",
       "      <td>0.435524</td>\n",
       "      <td>0.371419</td>\n",
       "      <td>0.820615</td>\n",
       "      <td>0.257412</td>\n",
       "      <td>0.953135</td>\n",
       "      <td>0</td>\n",
       "    </tr>\n",
       "    <tr>\n",
       "      <th>640</th>\n",
       "      <td>0.628917</td>\n",
       "      <td>0.412432</td>\n",
       "      <td>0.814122</td>\n",
       "      <td>0.293125</td>\n",
       "      <td>0.913998</td>\n",
       "      <td>0</td>\n",
       "    </tr>\n",
       "    <tr>\n",
       "      <th>641</th>\n",
       "      <td>0.587319</td>\n",
       "      <td>0.403313</td>\n",
       "      <td>0.815936</td>\n",
       "      <td>0.276038</td>\n",
       "      <td>0.939294</td>\n",
       "      <td>0</td>\n",
       "    </tr>\n",
       "  </tbody>\n",
       "</table>\n",
       "<p>1291 rows × 6 columns</p>\n",
       "</div>"
      ],
      "text/plain": [
       "            0         1         2         3         4  label\n",
       "0    0.619351  0.384239  0.830065  0.407817  0.937481      1\n",
       "1    0.687188  0.345690  0.854534  0.432327  0.931934      1\n",
       "2    0.711939  0.433662  0.809139  0.362867  0.936787      1\n",
       "3    0.994645  0.526109  0.780055  0.364014  0.875685      1\n",
       "4    0.454090  0.281114  0.875594  0.411168  0.971503      1\n",
       "..        ...       ...       ...       ...       ...    ...\n",
       "637  0.323869  0.269497  0.870614  0.335879  0.948311      0\n",
       "638  0.241062  0.236766  0.882046  0.336501  0.953307      0\n",
       "639  0.435524  0.371419  0.820615  0.257412  0.953135      0\n",
       "640  0.628917  0.412432  0.814122  0.293125  0.913998      0\n",
       "641  0.587319  0.403313  0.815936  0.276038  0.939294      0\n",
       "\n",
       "[1291 rows x 6 columns]"
      ]
     },
     "execution_count": 90,
     "metadata": {},
     "output_type": "execute_result"
    }
   ],
   "source": [
    "df = pd.DataFrame(masked_features)\n",
    "df['label'] = 1\n",
    "\n",
    "df1 = pd.DataFrame(no_masked_features)\n",
    "df1['label'] = 0\n",
    "\n",
    "merged = pd.concat([df,df1])\n",
    "merged"
   ]
  },
  {
   "cell_type": "code",
   "execution_count": 91,
   "metadata": {},
   "outputs": [],
   "source": [
    "y = merged['label']\n",
    "x = merged.drop(columns=['label'])\n",
    "\n",
    "X_train, X_test, y_train, y_test = train_test_split(x, y, test_size=0.33, random_state=42)"
   ]
  },
  {
   "cell_type": "code",
   "execution_count": 92,
   "metadata": {},
   "outputs": [],
   "source": [
    "# svm = SVC(kernel='rbf',gamma=0.01, C=0.1)\n",
    "# svm.fit(X_train,y_train)\n",
    "\n",
    "\n",
    "# cross_validation = StratifiedKFold(n_splits=10, shuffle=True, random_state=42)\n",
    "# param_grid = {'C': [0.1, 1, 10, 100, 1000],  \n",
    "#               'gamma': [1, 0.1, 0.01, 0.001, 0.0001], \n",
    "#               'kernel': ['rbf']}  \n",
    "  \n",
    "# grid = GridSearchCV(SVC(), param_grid, cv=cross_validation,refit = True, verbose = 3) \n",
    "  \n",
    "# grid.fit(X_train, y_train) \n"
   ]
  },
  {
   "cell_type": "code",
   "execution_count": 93,
   "metadata": {},
   "outputs": [],
   "source": [
    "# print(grid.best_params_)"
   ]
  },
  {
   "cell_type": "code",
   "execution_count": 94,
   "metadata": {},
   "outputs": [
    {
     "data": {
      "text/plain": [
       "SVC(C=10, gamma=0.01)"
      ]
     },
     "execution_count": 94,
     "metadata": {},
     "output_type": "execute_result"
    }
   ],
   "source": [
    "classifier = SVC(C= 10, gamma= 0.01, kernel= 'rbf')\n",
    "classifier.fit(X_train, y_train)"
   ]
  },
  {
   "cell_type": "code",
   "execution_count": 95,
   "metadata": {},
   "outputs": [
    {
     "name": "stdout",
     "output_type": "stream",
     "text": [
      "              precision    recall  f1-score   support\n",
      "\n",
      "           0       0.65      0.86      0.74       437\n",
      "           1       0.79      0.52      0.63       427\n",
      "\n",
      "    accuracy                           0.70       864\n",
      "   macro avg       0.72      0.69      0.69       864\n",
      "weighted avg       0.72      0.70      0.69       864\n",
      "\n",
      "              precision    recall  f1-score   support\n",
      "\n",
      "           0       0.58      0.87      0.70       205\n",
      "           1       0.78      0.42      0.54       222\n",
      "\n",
      "    accuracy                           0.63       427\n",
      "   macro avg       0.68      0.64      0.62       427\n",
      "weighted avg       0.68      0.63      0.62       427\n",
      "\n"
     ]
    }
   ],
   "source": [
    "# best_model = grid.best_estimator_\n",
    "# y_pred = best_model.predict(X_test)\n",
    "\n",
    "ytrain_pred = classifier.predict(X_train)\n",
    "ytest_pred = classifier.predict(X_test)\n",
    "\n",
    "\n",
    "# print(f\"Best parameters found: {grid.best_params_}\")\n",
    "# print(f\"Best cross-validation score: {grid.best_score_}\")\n",
    "\n",
    "print(classification_report(y_train, ytrain_pred))\n",
    "print(classification_report(y_test, ytest_pred))"
   ]
  },
  {
   "cell_type": "code",
   "execution_count": 96,
   "metadata": {},
   "outputs": [
    {
     "name": "stdout",
     "output_type": "stream",
     "text": [
      "[[178 129]\n",
      " [ 27  93]]\n",
      "[[377 203]\n",
      " [ 60 224]]\n"
     ]
    }
   ],
   "source": [
    "\n",
    "matrix_kebingungan = confusion_matrix(ytest_pred, y_test)\n",
    "print(matrix_kebingungan)\n",
    "\n",
    "matrix_kebingungan = confusion_matrix(ytrain_pred, y_train)\n",
    "print(matrix_kebingungan)"
   ]
  },
  {
   "cell_type": "code",
   "execution_count": 97,
   "metadata": {},
   "outputs": [],
   "source": [
    "\n",
    "\n",
    "\n",
    "\n",
    "# img = cv.imread('./b.jpg', cv.IMREAD_GRAYSCALE)\n",
    "# # img = no_mask_data[-1:]\n",
    "# # print(img)\n",
    "# faces = haarcasade.detectMultiScale(img, scaleFactor = 1.2, minNeighbors = 5)\n",
    "# if not len(faces) < 1:\n",
    "#     for face_rect in faces:\n",
    "#         x, y, w, h = face_rect\n",
    "#         face_image = img[y:y+w, x:x+h]\n",
    "#         resized = cv.resize(face_image,(128,128))\n",
    "\n",
    "#         hog_feature = hog(resized, pixels_per_cell=(8, 8), cells_per_block=(2, 2), block_norm='L2-Hys', visualize=False)\n",
    "#         test_data = pd.DataFrame(hog_feature).T\n",
    "\n",
    "#         result=best_model.predict(test_data)[0]\n",
    "#         print(result)\n",
    "#         if result == 0:\n",
    "#             result = 'No Mask'\n",
    "#         else:\n",
    "#             result = 'Mask'\n",
    "\n",
    "\n",
    "#         cv.putText(img, result, (100,100), cv.FONT_HERSHEY_PLAIN, 1.5, (255, 0, 0), 1)\n",
    "#         cv.imshow('',img)\n",
    "#         cv.waitKey(0)\n",
    "#         cv.destroyAllWindows()\n",
    "\n",
    "#         cv.imshow('',resized)\n",
    "#         cv.waitKey(0)\n",
    "#         cv.destroyAllWindows()"
   ]
  },
  {
   "cell_type": "code",
   "execution_count": 98,
   "metadata": {},
   "outputs": [
    {
     "ename": "NameError",
     "evalue": "name 'best_model' is not defined",
     "output_type": "error",
     "traceback": [
      "\u001b[1;31m---------------------------------------------------------------------------\u001b[0m",
      "\u001b[1;31mNameError\u001b[0m                                 Traceback (most recent call last)",
      "\u001b[1;32m~\\AppData\\Local\\Temp\\ipykernel_3564\\156224373.py\u001b[0m in \u001b[0;36m<module>\u001b[1;34m\u001b[0m\n\u001b[0;32m      2\u001b[0m \u001b[0mmodel_filename\u001b[0m \u001b[1;33m=\u001b[0m \u001b[1;34m'./model.pkl'\u001b[0m\u001b[1;33m\u001b[0m\u001b[1;33m\u001b[0m\u001b[0m\n\u001b[0;32m      3\u001b[0m \u001b[1;32mwith\u001b[0m \u001b[0mopen\u001b[0m\u001b[1;33m(\u001b[0m\u001b[0mmodel_filename\u001b[0m\u001b[1;33m,\u001b[0m \u001b[1;34m'wb'\u001b[0m\u001b[1;33m)\u001b[0m \u001b[1;32mas\u001b[0m \u001b[0mfile\u001b[0m\u001b[1;33m:\u001b[0m\u001b[1;33m\u001b[0m\u001b[1;33m\u001b[0m\u001b[0m\n\u001b[1;32m----> 4\u001b[1;33m     \u001b[0mpickle\u001b[0m\u001b[1;33m.\u001b[0m\u001b[0mdump\u001b[0m\u001b[1;33m(\u001b[0m\u001b[0mbest_model\u001b[0m\u001b[1;33m,\u001b[0m \u001b[0mfile\u001b[0m\u001b[1;33m)\u001b[0m\u001b[1;33m\u001b[0m\u001b[1;33m\u001b[0m\u001b[0m\n\u001b[0m\u001b[0;32m      5\u001b[0m \u001b[1;33m\u001b[0m\u001b[0m\n\u001b[0;32m      6\u001b[0m \u001b[0mprint\u001b[0m\u001b[1;33m(\u001b[0m\u001b[1;34mf\"Model saved to {model_filename}\"\u001b[0m\u001b[1;33m)\u001b[0m\u001b[1;33m\u001b[0m\u001b[1;33m\u001b[0m\u001b[0m\n",
      "\u001b[1;31mNameError\u001b[0m: name 'best_model' is not defined"
     ]
    }
   ],
   "source": [
    "import pickle\n",
    "model_filename = './model.pkl'\n",
    "with open(model_filename, 'wb') as file:\n",
    "    pickle.dump(best_model, file)\n",
    "\n",
    "print(f\"Model saved to {model_filename}\")"
   ]
  }
 ],
 "metadata": {
  "kernelspec": {
   "display_name": "computer_vision",
   "language": "python",
   "name": "python3"
  },
  "language_info": {
   "codemirror_mode": {
    "name": "ipython",
    "version": 3
   },
   "file_extension": ".py",
   "mimetype": "text/x-python",
   "name": "python",
   "nbconvert_exporter": "python",
   "pygments_lexer": "ipython3",
   "version": "3.7.6"
  }
 },
 "nbformat": 4,
 "nbformat_minor": 2
}
